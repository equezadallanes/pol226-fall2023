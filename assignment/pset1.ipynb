{
  "cells": [
    {
      "cell_type": "raw",
      "metadata": {},
      "source": [
        "---\n",
        "title: \"Problem Set 1\"\n",
        "---"
      ],
      "id": "ec08f9c2"
    },
    {
      "cell_type": "markdown",
      "metadata": {},
      "source": [
        ":::{.callout-important}\n",
        "Due September 8th at 10:30 am on Canvas\n",
        ":::\n",
        "\n",
        "## Purpose\n",
        "\n",
        "This first problem set will help you practice:\n",
        "\n",
        "1. Setting the working directory\n",
        "2. Loading data into R\n",
        "3. Viewing and understanding observations from the dataset\n",
        "4. Identifying the type of variables you are working with\n",
        "\n",
        "\n",
        "You will use the following commands:\n",
        "\n",
        "\n",
        "````{verbatim}\n",
        "\n",
        "setwd()\n",
        "\n",
        "read.csv()\n",
        "\n",
        "head()\n",
        "\n",
        "dim()\n",
        "\n",
        "\n",
        "````\n",
        "\n",
        "\n",
        "\n",
        "\n",
        "## Criteria for success\n",
        "\n",
        "In addition to providing the correct code and/or answer, a successful problem set will:\n",
        "\n",
        "1. Have clear explanations that demonstrate your knowledge of the material\n",
        "2. Use the \"comment out\" function to explain what the code is doing\n"
      ],
      "id": "d011c944"
    }
  ],
  "metadata": {
    "kernelspec": {
      "display_name": "Python 3",
      "language": "python",
      "name": "python3"
    }
  },
  "nbformat": 4,
  "nbformat_minor": 5
}